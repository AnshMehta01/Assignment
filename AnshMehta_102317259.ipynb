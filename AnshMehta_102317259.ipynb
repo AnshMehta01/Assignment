{
  "nbformat": 4,
  "nbformat_minor": 0,
  "metadata": {
    "colab": {
      "provenance": []
    },
    "kernelspec": {
      "name": "python3",
      "display_name": "Python 3"
    },
    "language_info": {
      "name": "python"
    }
  },
  "cells": [
    {
      "cell_type": "code",
      "execution_count": 13,
      "metadata": {
        "colab": {
          "base_uri": "https://localhost:8080/"
        },
        "id": "imaFZvZJHFdA",
        "outputId": "0a0f069d-cf4f-4714-bffe-798026664921"
      },
      "outputs": [
        {
          "output_type": "stream",
          "name": "stdout",
          "text": [
            "[10, 20, 30, 40, 50, 60, 70, 80, 200, 300]\n",
            "[20, 40, 50, 60, 70, 80, 200, 300]\n",
            "[20, 40, 50, 60, 70, 80, 200, 300]\n",
            "[300, 200, 80, 70, 60, 50, 40, 20]\n"
          ]
        }
      ],
      "source": [
        "l = [10, 20, 30, 40, 50, 60, 70, 80]\n",
        "l2 = [200 , 300]\n",
        "l.extend(l2)\n",
        "print(l)\n",
        "l.remove(10)\n",
        "l.remove(30)\n",
        "print(l)\n",
        "l.sort()\n",
        "print(l)\n",
        "l.sort(reverse=True)\n",
        "print(l)"
      ]
    },
    {
      "cell_type": "code",
      "source": [
        "scores = (45, 89.5, 76, 45.4, 89, 92, 58, 45)\n",
        "print(f\"The highest score is {max(scores)} and the index is {scores.index(max(scores))}\")\n",
        "print(f\"The lowest score is {min(scores)} and it aappears {scores.count(min(scores))} times\")\n",
        "temp = list(scores)\n",
        "temp.reverse()\n",
        "scores = tuple(temp)\n",
        "print(scores)\n",
        "if 76 in scores:\n",
        "  print(f\"76 is present at index {scores.index(76)}\")\n",
        "else:\n",
        "  print(\"76 is not present\")\n"
      ],
      "metadata": {
        "colab": {
          "base_uri": "https://localhost:8080/"
        },
        "id": "c1bvTe0oIpC8",
        "outputId": "c9b2a480-eb82-459c-a990-1beb96eff6b5"
      },
      "execution_count": 21,
      "outputs": [
        {
          "output_type": "stream",
          "name": "stdout",
          "text": [
            "The highest score is 92 and the index is 5\n",
            "The lowest score is 45 and it aappears 2 times\n",
            "(45, 58, 92, 89, 45.4, 76, 89.5, 45)\n",
            "76 is present at index 5\n"
          ]
        }
      ]
    },
    {
      "cell_type": "code",
      "source": [
        "import random\n",
        "l = []\n",
        "odd = []\n",
        "even = []\n",
        "prime = []\n",
        "for i in range(1,101):\n",
        "  l.append(random.randint(100 , 900))\n",
        "print(len(l))\n",
        "for num in l:\n",
        "  if num % 2 == 0:\n",
        "    even.append(num)\n",
        "  else:\n",
        "    odd.append(num)\n",
        "  if num > 1:\n",
        "      is_prime = True\n",
        "      for i in range(2, int(num**0.5) + 1):\n",
        "          if num % i == 0:\n",
        "              is_prime = False\n",
        "              break\n",
        "      if is_prime:\n",
        "          prime.append(num)\n",
        "print(f\"The even numbers are {len(even)}\")\n",
        "print(f\"The odd numbers are {len(odd)}\")\n",
        "print(f\"The prime numbers are {len(prime)}\")\n"
      ],
      "metadata": {
        "colab": {
          "base_uri": "https://localhost:8080/"
        },
        "id": "dHM_wlNoOvaB",
        "outputId": "092a1382-8f87-400f-d9a2-e54afc686769"
      },
      "execution_count": 35,
      "outputs": [
        {
          "output_type": "stream",
          "name": "stdout",
          "text": [
            "100\n",
            "The even numbers are 52\n",
            "The odd numbers are 48\n",
            "The prime numbers are 12\n"
          ]
        }
      ]
    },
    {
      "cell_type": "code",
      "source": [
        "A = {34, 56, 78, 90}\n",
        "B = {78, 45, 90, 23}\n",
        "print(A.union(B))\n",
        "print(A.intersection(B))\n",
        "print(A.symmetric_difference(B))\n",
        "print(A.issubset(B))\n",
        "print(B.issuperset(A))\n",
        "x = int(input(\"Enter a no. : \"))\n",
        "if x in A:\n",
        "    A.remove(x)\n",
        "    print(f\"Score {x} removed from set A. Updated set A: {A}\")\n",
        "else:\n",
        "    print(f\"Score {x} is not present in set A.\")"
      ],
      "metadata": {
        "colab": {
          "base_uri": "https://localhost:8080/"
        },
        "id": "XTWxUjykTCVi",
        "outputId": "a51c7b6f-370a-4dc5-ac23-6d6b7b4d88ef"
      },
      "execution_count": 48,
      "outputs": [
        {
          "output_type": "stream",
          "name": "stdout",
          "text": [
            "{34, 45, 78, 23, 56, 90}\n",
            "{90, 78}\n",
            "{34, 45, 23, 56}\n",
            "False\n",
            "False\n",
            "Enter a no. : 34\n",
            "Score 34 removed from set A. Updated set A: {56, 90, 78}\n"
          ]
        }
      ]
    },
    {
      "cell_type": "code",
      "source": [
        "sample_dict = {\n",
        "  \"name\": \"Kelly\",\n",
        "  \"age\": 25,\n",
        "  \"salary\": 8000,\n",
        "  \"city\": \"New york\"\n",
        "}\n",
        "city = sample_dict[\"city\"]\n",
        "sample_dict.pop(\"city\")\n",
        "sample_dict[\"location\"] = city\n",
        "print(sample_dict)"
      ],
      "metadata": {
        "colab": {
          "base_uri": "https://localhost:8080/"
        },
        "id": "DidNeFEcWlnN",
        "outputId": "d65c1acd-3c2a-44ea-9a3c-03af746282f9"
      },
      "execution_count": 50,
      "outputs": [
        {
          "output_type": "stream",
          "name": "stdout",
          "text": [
            "{'name': 'Kelly', 'age': 25, 'salary': 8000, 'location': 'New york'}\n"
          ]
        }
      ]
    }
  ]
}